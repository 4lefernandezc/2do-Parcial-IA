{
  "cells": [
    {
      "cell_type": "code",
      "execution_count": 1,
      "metadata": {
        "id": "48FoiBrmgclz"
      },
      "outputs": [],
      "source": [
        "import numpy as np\n",
        "\n",
        "class Board():\n",
        "    #aqui es donde se define el tablero y se inicializa, ademas de su tamaño\n",
        "    def __init__(self):\n",
        "        self.state = np.zeros((4,4)) # se define el tablero de 4x4\n",
        "\n",
        "    def valid_moves(self):\n",
        "        return [(i, j) for j in range(4) for i in range(4) if self.state[i, j] == 0] # se define el rango de movimientos validos\n",
        "\n",
        "    def update(self, symbol, row, col):\n",
        "        if self.state[row, col] == 0:\n",
        "            self.state[row, col] = symbol \n",
        "        else:\n",
        "            raise ValueError (\"movimiento ilegal !\") # se define el error en caso de que se intente hacer un movimiento ilegal\n",
        "\n",
        "    def is_game_over(self):\n",
        "        # comprobar filas y columnas\n",
        "        if (self.state.sum(axis=0) == 4).sum() >= 1 or (self.state.sum(axis=1) == 4).sum() >= 1:\n",
        "            return 1\n",
        "        if (self.state.sum(axis=0) == -4).sum() >= 1 or (self.state.sum(axis=1) == -4).sum() >= 1:\n",
        "            return -1\n",
        "        # comprobar diagonales\n",
        "        diag_sums = [\n",
        "            sum([self.state[i, i] for i in range(4)]),\n",
        "            sum([self.state[i, 4 - i - 1] for i in range(4)]),\n",
        "        ]\n",
        "        if diag_sums[0] == 4 or diag_sums[1] == 4:\n",
        "            return 1\n",
        "        if diag_sums[0] == -4 or diag_sums[1] == -4:\n",
        "            return -1\n",
        "        # empate\n",
        "        if len(self.valid_moves()) == 0:\n",
        "            return 0\n",
        "        # seguir jugando\n",
        "        return None\n",
        "\n",
        "    def reset(self):\n",
        "        self.state = np.zeros((4,4))\n"
      ]
    },
    {
      "cell_type": "code",
      "execution_count": 2,
      "metadata": {
        "id": "JHrTDE67gcl0"
      },
      "outputs": [],
      "source": [
        "from tqdm import tqdm # se importa la libreria para mostrar la barra de progreso\n",
        "\n",
        "class Game():\n",
        "    def __init__(self, player1, player2):\n",
        "        player1.symbol = 1\n",
        "        player2.symbol = -1\n",
        "        self.players = [player1, player2]\n",
        "        self.board = Board()\n",
        "\n",
        "    def selfplay(self, rounds=100):\n",
        "        wins = [0, 0]\n",
        "        for i in tqdm(range(1, rounds + 1)):\n",
        "            self.board.reset()\n",
        "            for player in self.players:\n",
        "                player.reset()\n",
        "            game_over = False\n",
        "            while not game_over:\n",
        "                for player in self.players:\n",
        "                    action = player.move(self.board)\n",
        "                    self.board.update(player.symbol, action[0], action[1])\n",
        "                    for player in self.players:\n",
        "                        player.update(self.board)\n",
        "                    if self.board.is_game_over() is not None:\n",
        "                        game_over = True\n",
        "                        break\n",
        "            self.reward()\n",
        "            for ix, player in enumerate(self.players):\n",
        "                if self.board.is_game_over() == player.symbol:\n",
        "                    wins[ix] += 1\n",
        "        return wins # se retorna el numero de victorias\n",
        "\n",
        "\n",
        "    def reward(self): # se define la recompensa\n",
        "        winner = self.board.is_game_over() # se define el ganador\n",
        "        if winner == 0: # empate\n",
        "            for player in self.players: # se le da 0.5 recompensa a cada jugador\n",
        "                player.reward(0.5)\n",
        "        else: # le damos 1 recompensa al jugador que gana\n",
        "            for player in self.players:\n",
        "                if winner == player.symbol:\n",
        "                    player.reward(1) # si gana recibe recompensa\n",
        "                else:\n",
        "                    player.reward(0) # si pierde no recibe recompensa"
      ]
    },
    {
      "cell_type": "code",
      "execution_count": 3,
      "metadata": {
        "id": "vfaI-brLgcl1"
      },
      "outputs": [],
      "source": [
        "class Agent():\n",
        "    def __init__(self, alpha=0.5, prob_exp=0.5):\n",
        "        self.value_function = {} # tabla con pares estado -> valor\n",
        "        self.alpha = alpha         # learning rate\n",
        "        self.positions = []       # guardamos todas las posiciones de la partida\n",
        "        self.prob_exp = prob_exp   # probabilidad de explorar\n",
        "\n",
        "    def reset(self):\n",
        "        self.positions = []\n",
        "\n",
        "    def move(self, board, explore=True):\n",
        "        valid_moves = board.valid_moves()\n",
        "        # exploracion\n",
        "        if explore and np.random.uniform(0, 1) < self.prob_exp:\n",
        "            # vamos a una posición aleatoria\n",
        "            ix = np.random.choice(len(valid_moves))\n",
        "            return valid_moves[ix]\n",
        "        # explotacion\n",
        "        # vamos a la posición con más valor\n",
        "        max_value = -1000\n",
        "        for row, col in valid_moves:\n",
        "            next_board = board.state.copy()\n",
        "            next_board[row, col] = self.symbol\n",
        "            next_state = str(next_board.reshape(4*4))\n",
        "            value = 0 if self.value_function.get(next_state) is None else self.value_function.get(next_state)\n",
        "            if value >= max_value:\n",
        "                max_value = value\n",
        "                best_row, best_col = row, col\n",
        "        return best_row, best_col\n",
        "\n",
        "    def update(self, board):\n",
        "        self.positions.append(str(board.state.reshape(4*4)))\n",
        "\n",
        "\n",
        "    def reward(self, reward):\n",
        "        # al final de la partida (cuando recibimos la recompensa)\n",
        "        # iteramos por tods los estados actualizando su valor en la tabla\n",
        "        for p in reversed(self.positions):\n",
        "            if self.value_function.get(p) is None:\n",
        "                self.value_function[p] = 0\n",
        "            self.value_function[p] += self.alpha * (reward - self.value_function[p])\n",
        "            reward = self.value_function[p]"
      ]
    },
    {
      "cell_type": "code",
      "execution_count": 5,
      "metadata": {
        "colab": {
          "base_uri": "https://localhost:8080/"
        },
        "id": "M_mG5T7egcl1",
        "outputId": "6b208005-ec76-48eb-84dc-2ee8ef493edd"
      },
      "outputs": [
        {
          "name": "stderr",
          "output_type": "stream",
          "text": [
            "100%|██████████| 15000/15000 [07:12<00:00, 34.68it/s]\n"
          ]
        },
        {
          "data": {
            "text/plain": [
              "[4866, 3821]"
            ]
          },
          "execution_count": 5,
          "metadata": {},
          "output_type": "execute_result"
        }
      ],
      "source": [
        "agent1 = Agent(prob_exp=0.5)\n",
        "agent2 = Agent()\n",
        "\n",
        "game = Game(agent1, agent2)\n",
        "\n",
        "game.selfplay(15000)"
      ]
    },
    {
      "cell_type": "code",
      "execution_count": 6,
      "metadata": {
        "colab": {
          "base_uri": "https://localhost:8080/",
          "height": 424
        },
        "id": "iMqFyZ2Vgcl2",
        "outputId": "9f84608d-18de-452f-fa3d-1fa6091e6d8d"
      },
      "outputs": [
        {
          "data": {
            "text/html": [
              "<div>\n",
              "<style scoped>\n",
              "    .dataframe tbody tr th:only-of-type {\n",
              "        vertical-align: middle;\n",
              "    }\n",
              "\n",
              "    .dataframe tbody tr th {\n",
              "        vertical-align: top;\n",
              "    }\n",
              "\n",
              "    .dataframe thead th {\n",
              "        text-align: right;\n",
              "    }\n",
              "</style>\n",
              "<table border=\"1\" class=\"dataframe\">\n",
              "  <thead>\n",
              "    <tr style=\"text-align: right;\">\n",
              "      <th></th>\n",
              "      <th>estado</th>\n",
              "      <th>valor</th>\n",
              "    </tr>\n",
              "  </thead>\n",
              "  <tbody>\n",
              "    <tr>\n",
              "      <th>0</th>\n",
              "      <td>[ 0.  0.  0.  1. -1.  0.  1.  0.  0.  1.  0. -...</td>\n",
              "      <td>0.998047</td>\n",
              "    </tr>\n",
              "    <tr>\n",
              "      <th>1</th>\n",
              "      <td>[ 0.  1.  0.  0.  0.  1.  1. -1.  0.  1.  0. -...</td>\n",
              "      <td>0.998047</td>\n",
              "    </tr>\n",
              "    <tr>\n",
              "      <th>2</th>\n",
              "      <td>[ 0.  0.  0.  1.  0.  0.  1. -1.  0.  1.  0. -...</td>\n",
              "      <td>0.996094</td>\n",
              "    </tr>\n",
              "    <tr>\n",
              "      <th>3</th>\n",
              "      <td>[ 0.  0.  0.  1. -1.  0.  0.  1.  0.  0.  0.  ...</td>\n",
              "      <td>0.996094</td>\n",
              "    </tr>\n",
              "    <tr>\n",
              "      <th>4</th>\n",
              "      <td>[ 0.  0. -1.  1.  0.  0.  0.  1.  0.  0. -1.  ...</td>\n",
              "      <td>0.996094</td>\n",
              "    </tr>\n",
              "    <tr>\n",
              "      <th>...</th>\n",
              "      <td>...</td>\n",
              "      <td>...</td>\n",
              "    </tr>\n",
              "    <tr>\n",
              "      <th>126591</th>\n",
              "      <td>[ 0.  0.  1.  1.  0.  0.  1.  1.  0.  1. -1. -...</td>\n",
              "      <td>0.000000</td>\n",
              "    </tr>\n",
              "    <tr>\n",
              "      <th>126592</th>\n",
              "      <td>[ 0.  0.  1.  1.  0.  0.  0.  1.  0.  1. -1. -...</td>\n",
              "      <td>0.000000</td>\n",
              "    </tr>\n",
              "    <tr>\n",
              "      <th>126593</th>\n",
              "      <td>[ 0.  0.  1.  1.  0.  0.  0.  1.  0.  1. -1.  ...</td>\n",
              "      <td>0.000000</td>\n",
              "    </tr>\n",
              "    <tr>\n",
              "      <th>126594</th>\n",
              "      <td>[ 0.  0.  1.  1.  0.  0.  0.  1.  0.  1. -1.  ...</td>\n",
              "      <td>0.000000</td>\n",
              "    </tr>\n",
              "    <tr>\n",
              "      <th>126595</th>\n",
              "      <td>[ 0.  0.  1.  1.  0.  0.  0.  1.  0.  1. -1.  ...</td>\n",
              "      <td>0.000000</td>\n",
              "    </tr>\n",
              "  </tbody>\n",
              "</table>\n",
              "<p>126596 rows × 2 columns</p>\n",
              "</div>"
            ],
            "text/plain": [
              "                                                   estado     valor\n",
              "0       [ 0.  0.  0.  1. -1.  0.  1.  0.  0.  1.  0. -...  0.998047\n",
              "1       [ 0.  1.  0.  0.  0.  1.  1. -1.  0.  1.  0. -...  0.998047\n",
              "2       [ 0.  0.  0.  1.  0.  0.  1. -1.  0.  1.  0. -...  0.996094\n",
              "3       [ 0.  0.  0.  1. -1.  0.  0.  1.  0.  0.  0.  ...  0.996094\n",
              "4       [ 0.  0. -1.  1.  0.  0.  0.  1.  0.  0. -1.  ...  0.996094\n",
              "...                                                   ...       ...\n",
              "126591  [ 0.  0.  1.  1.  0.  0.  1.  1.  0.  1. -1. -...  0.000000\n",
              "126592  [ 0.  0.  1.  1.  0.  0.  0.  1.  0.  1. -1. -...  0.000000\n",
              "126593  [ 0.  0.  1.  1.  0.  0.  0.  1.  0.  1. -1.  ...  0.000000\n",
              "126594  [ 0.  0.  1.  1.  0.  0.  0.  1.  0.  1. -1.  ...  0.000000\n",
              "126595  [ 0.  0.  1.  1.  0.  0.  0.  1.  0.  1. -1.  ...  0.000000\n",
              "\n",
              "[126596 rows x 2 columns]"
            ]
          },
          "execution_count": 6,
          "metadata": {},
          "output_type": "execute_result"
        }
      ],
      "source": [
        "import pandas as pd\n",
        "\n",
        "funcion_de_valor = sorted(agent1.value_function.items(), key=lambda kv: kv[1], reverse=True)\n",
        "tabla = pd.DataFrame({'estado': [x[0] for x in funcion_de_valor], 'valor': [x[1] for x in funcion_de_valor]})\n",
        "\n",
        "tabla"
      ]
    }
  ],
  "metadata": {
    "colab": {
      "provenance": []
    },
    "interpreter": {
      "hash": "bb9f406c0f70fca9801e60f2cbb7cd1ccff2ae2f74c58f513340bcf6cae5ecd0"
    },
    "kernelspec": {
      "display_name": "Python 3 (ipykernel)",
      "language": "python",
      "name": "python3"
    },
    "language_info": {
      "codemirror_mode": {
        "name": "ipython",
        "version": 3
      },
      "file_extension": ".py",
      "mimetype": "text/x-python",
      "name": "python",
      "nbconvert_exporter": "python",
      "pygments_lexer": "ipython3",
      "version": "3.12.2"
    }
  },
  "nbformat": 4,
  "nbformat_minor": 0
}
